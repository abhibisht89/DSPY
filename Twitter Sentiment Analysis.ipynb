{
 "cells": [
  {
   "cell_type": "code",
   "execution_count": 6,
   "metadata": {
    "collapsed": false
   },
   "outputs": [],
   "source": [
    "import tweepy\n",
    "from textblob import TextBlob\n",
    "\n"
   ]
  },
  {
   "cell_type": "code",
   "execution_count": 7,
   "metadata": {
    "collapsed": true
   },
   "outputs": [],
   "source": [
    "consumer_key='rRx9oWaX24qaEIxT0sItSDtBj'\n",
    "consumer_secret='JwIIRziWq6rqMFgxhFkvKE7KYnFRBVUKaQqsNQvSVJEohVo7n9'\n",
    "\n",
    "access_token='140743651-sHhcm0iNu7lSCrFKRVAEgxHXk9XgMhWXSpOvLE6A'\n",
    "access_token_secret='Mjgmcozrsk0yC6bafKHxVdYPx7BHVXqf5aFlX6oGbIM14'\n"
   ]
  },
  {
   "cell_type": "code",
   "execution_count": 12,
   "metadata": {
    "collapsed": true
   },
   "outputs": [],
   "source": [
    "auth=tweepy.OAuthHandler(consumer_key,consumer_secret)\n",
    "auth.set_access_token(access_token,access_token_secret)\n",
    "\n",
    "api=tweepy.API(auth)"
   ]
  },
  {
   "cell_type": "code",
   "execution_count": 29,
   "metadata": {
    "collapsed": false
   },
   "outputs": [
    {
     "name": "stdout",
     "output_type": "stream",
     "text": [
      "2.111111111111111\n",
      "-0.1875\n"
     ]
    }
   ],
   "source": [
    "senti=0\n",
    "positive=0\n",
    "negative=0\n",
    "public_tweets=api.search('bahubali')\n",
    "for tweets in public_tweets:\n",
    "    #print(tweets.text)\n",
    "    analysis=TextBlob(tweets.text)\n",
    "    #print(analysis.sentiment)\n",
    "    senti=senti+analysis.sentiment.polarity\n",
    "    if analysis.sentiment.polarity >= 0:\n",
    "        positive=positive+analysis.sentiment.polarity   \n",
    "    else:\n",
    "        negative=negative+analysis.sentiment.polarity \n",
    "print(positive)\n",
    "print(negative)"
   ]
  },
  {
   "cell_type": "code",
   "execution_count": null,
   "metadata": {
    "collapsed": true
   },
   "outputs": [],
   "source": []
  }
 ],
 "metadata": {
  "kernelspec": {
   "display_name": "Python [Root]",
   "language": "python",
   "name": "Python [Root]"
  },
  "language_info": {
   "codemirror_mode": {
    "name": "ipython",
    "version": 3
   },
   "file_extension": ".py",
   "mimetype": "text/x-python",
   "name": "python",
   "nbconvert_exporter": "python",
   "pygments_lexer": "ipython3",
   "version": "3.5.2"
  }
 },
 "nbformat": 4,
 "nbformat_minor": 0
}
